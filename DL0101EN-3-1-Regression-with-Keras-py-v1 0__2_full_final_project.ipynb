{
 "cells": [
  {
   "cell_type": "markdown",
   "metadata": {},
   "source": [
    "<a href=\"https://cognitiveclass.ai\"><img src=\"https://cf-courses-data.s3.us.cloud-object-storage.appdomain.cloud/IBMDeveloperSkillsNetwork-DL0101EN-SkillsNetwork/images/IDSN-logo.png\" width=\"400\"> </a>\n",
    "\n",
    "<h1 align=center><font size = 5>Peer graded: Regression Models with Keras</font></h1>\n"
   ]
  },
  {
   "cell_type": "code",
   "execution_count": null,
   "metadata": {},
   "outputs": [],
   "source": [
    "## PART A"
   ]
  },
  {
   "cell_type": "markdown",
   "metadata": {},
   "source": [
    "## Download and Clean Dataset\n"
   ]
  },
  {
   "cell_type": "markdown",
   "metadata": {},
   "source": [
    "Let's start by importing the <em>pandas</em> and the Numpy libraries.\n"
   ]
  },
  {
   "cell_type": "code",
   "execution_count": 4,
   "metadata": {
    "tags": []
   },
   "outputs": [],
   "source": [
    "# All Libraries required for this lab are listed below. The libraries pre-installed on Skills Network Labs are commented. \n",
    "# If you run this notebook on a different environment, e.g. your desktop, you may need to uncomment and install certain libraries.\n",
    "\n",
    "#!pip install numpy==1.21.4\n",
    "#!pip install pandas==1.3.4\n",
    "#!pip install keras==2.1.6"
   ]
  },
  {
   "cell_type": "code",
   "execution_count": 5,
   "metadata": {
    "tags": []
   },
   "outputs": [],
   "source": [
    "import pandas as pd\n",
    "import numpy as np\n",
    "\n",
    "import warnings\n",
    "warnings.simplefilter('ignore', FutureWarning)"
   ]
  },
  {
   "cell_type": "markdown",
   "metadata": {},
   "source": [
    "We will be playing around with the same dataset that we used in the videos.\n",
    "\n",
    "<strong>The dataset is about the compressive strength of different samples of concrete based on the volumes of the different ingredients that were used to make them. Ingredients include:</strong>\n",
    "\n",
    "<strong>1. Cement</strong>\n",
    "\n",
    "<strong>2. Blast Furnace Slag</strong>\n",
    "\n",
    "<strong>3. Fly Ash</strong>\n",
    "\n",
    "<strong>4. Water</strong>\n",
    "\n",
    "<strong>5. Superplasticizer</strong>\n",
    "\n",
    "<strong>6. Coarse Aggregate</strong>\n",
    "\n",
    "<strong>7. Fine Aggregate</strong>\n"
   ]
  },
  {
   "cell_type": "markdown",
   "metadata": {},
   "source": [
    "Let's download the data and read it into a <em>pandas</em> dataframe.\n"
   ]
  },
  {
   "cell_type": "code",
   "execution_count": 6,
   "metadata": {
    "tags": []
   },
   "outputs": [
    {
     "data": {
      "text/html": [
       "<div>\n",
       "<style scoped>\n",
       "    .dataframe tbody tr th:only-of-type {\n",
       "        vertical-align: middle;\n",
       "    }\n",
       "\n",
       "    .dataframe tbody tr th {\n",
       "        vertical-align: top;\n",
       "    }\n",
       "\n",
       "    .dataframe thead th {\n",
       "        text-align: right;\n",
       "    }\n",
       "</style>\n",
       "<table border=\"1\" class=\"dataframe\">\n",
       "  <thead>\n",
       "    <tr style=\"text-align: right;\">\n",
       "      <th></th>\n",
       "      <th>Cement</th>\n",
       "      <th>Blast Furnace Slag</th>\n",
       "      <th>Fly Ash</th>\n",
       "      <th>Water</th>\n",
       "      <th>Superplasticizer</th>\n",
       "      <th>Coarse Aggregate</th>\n",
       "      <th>Fine Aggregate</th>\n",
       "      <th>Age</th>\n",
       "      <th>Strength</th>\n",
       "    </tr>\n",
       "  </thead>\n",
       "  <tbody>\n",
       "    <tr>\n",
       "      <th>0</th>\n",
       "      <td>540.0</td>\n",
       "      <td>0.0</td>\n",
       "      <td>0.0</td>\n",
       "      <td>162.0</td>\n",
       "      <td>2.5</td>\n",
       "      <td>1040.0</td>\n",
       "      <td>676.0</td>\n",
       "      <td>28</td>\n",
       "      <td>79.99</td>\n",
       "    </tr>\n",
       "    <tr>\n",
       "      <th>1</th>\n",
       "      <td>540.0</td>\n",
       "      <td>0.0</td>\n",
       "      <td>0.0</td>\n",
       "      <td>162.0</td>\n",
       "      <td>2.5</td>\n",
       "      <td>1055.0</td>\n",
       "      <td>676.0</td>\n",
       "      <td>28</td>\n",
       "      <td>61.89</td>\n",
       "    </tr>\n",
       "    <tr>\n",
       "      <th>2</th>\n",
       "      <td>332.5</td>\n",
       "      <td>142.5</td>\n",
       "      <td>0.0</td>\n",
       "      <td>228.0</td>\n",
       "      <td>0.0</td>\n",
       "      <td>932.0</td>\n",
       "      <td>594.0</td>\n",
       "      <td>270</td>\n",
       "      <td>40.27</td>\n",
       "    </tr>\n",
       "    <tr>\n",
       "      <th>3</th>\n",
       "      <td>332.5</td>\n",
       "      <td>142.5</td>\n",
       "      <td>0.0</td>\n",
       "      <td>228.0</td>\n",
       "      <td>0.0</td>\n",
       "      <td>932.0</td>\n",
       "      <td>594.0</td>\n",
       "      <td>365</td>\n",
       "      <td>41.05</td>\n",
       "    </tr>\n",
       "    <tr>\n",
       "      <th>4</th>\n",
       "      <td>198.6</td>\n",
       "      <td>132.4</td>\n",
       "      <td>0.0</td>\n",
       "      <td>192.0</td>\n",
       "      <td>0.0</td>\n",
       "      <td>978.4</td>\n",
       "      <td>825.5</td>\n",
       "      <td>360</td>\n",
       "      <td>44.30</td>\n",
       "    </tr>\n",
       "  </tbody>\n",
       "</table>\n",
       "</div>"
      ],
      "text/plain": [
       "   Cement  Blast Furnace Slag  Fly Ash  Water  Superplasticizer  \\\n",
       "0   540.0                 0.0      0.0  162.0               2.5   \n",
       "1   540.0                 0.0      0.0  162.0               2.5   \n",
       "2   332.5               142.5      0.0  228.0               0.0   \n",
       "3   332.5               142.5      0.0  228.0               0.0   \n",
       "4   198.6               132.4      0.0  192.0               0.0   \n",
       "\n",
       "   Coarse Aggregate  Fine Aggregate  Age  Strength  \n",
       "0            1040.0           676.0   28     79.99  \n",
       "1            1055.0           676.0   28     61.89  \n",
       "2             932.0           594.0  270     40.27  \n",
       "3             932.0           594.0  365     41.05  \n",
       "4             978.4           825.5  360     44.30  "
      ]
     },
     "execution_count": 6,
     "metadata": {},
     "output_type": "execute_result"
    }
   ],
   "source": [
    "concrete_data = pd.read_csv('https://s3-api.us-geo.objectstorage.softlayer.net/cf-courses-data/CognitiveClass/DL0101EN/labs/data/concrete_data.csv')\n",
    "concrete_data.head()"
   ]
  },
  {
   "cell_type": "markdown",
   "metadata": {},
   "source": [
    "So the first concrete sample has 540 cubic meter of cement, 0 cubic meter of blast furnace slag, 0 cubic meter of fly ash, 162 cubic meter of water, 2.5 cubic meter of superplaticizer, 1040 cubic meter of coarse aggregate, 676 cubic meter of fine aggregate. Such a concrete mix which is 28 days old, has a compressive strength of 79.99 MPa. \n"
   ]
  },
  {
   "cell_type": "markdown",
   "metadata": {},
   "source": [
    "#### Let's check how many data points we have.\n"
   ]
  },
  {
   "cell_type": "code",
   "execution_count": 7,
   "metadata": {
    "tags": []
   },
   "outputs": [
    {
     "data": {
      "text/plain": [
       "(1030, 9)"
      ]
     },
     "execution_count": 7,
     "metadata": {},
     "output_type": "execute_result"
    }
   ],
   "source": [
    "concrete_data.shape"
   ]
  },
  {
   "cell_type": "markdown",
   "metadata": {},
   "source": [
    "So, there are approximately 1000 samples to train our model on. Because of the few samples, we have to be careful not to overfit the training data.\n"
   ]
  },
  {
   "cell_type": "markdown",
   "metadata": {},
   "source": [
    "Let's check the dataset for any missing values.\n"
   ]
  },
  {
   "cell_type": "code",
   "execution_count": 8,
   "metadata": {
    "tags": []
   },
   "outputs": [
    {
     "data": {
      "text/html": [
       "<div>\n",
       "<style scoped>\n",
       "    .dataframe tbody tr th:only-of-type {\n",
       "        vertical-align: middle;\n",
       "    }\n",
       "\n",
       "    .dataframe tbody tr th {\n",
       "        vertical-align: top;\n",
       "    }\n",
       "\n",
       "    .dataframe thead th {\n",
       "        text-align: right;\n",
       "    }\n",
       "</style>\n",
       "<table border=\"1\" class=\"dataframe\">\n",
       "  <thead>\n",
       "    <tr style=\"text-align: right;\">\n",
       "      <th></th>\n",
       "      <th>Cement</th>\n",
       "      <th>Blast Furnace Slag</th>\n",
       "      <th>Fly Ash</th>\n",
       "      <th>Water</th>\n",
       "      <th>Superplasticizer</th>\n",
       "      <th>Coarse Aggregate</th>\n",
       "      <th>Fine Aggregate</th>\n",
       "      <th>Age</th>\n",
       "      <th>Strength</th>\n",
       "    </tr>\n",
       "  </thead>\n",
       "  <tbody>\n",
       "    <tr>\n",
       "      <th>count</th>\n",
       "      <td>1030.000000</td>\n",
       "      <td>1030.000000</td>\n",
       "      <td>1030.000000</td>\n",
       "      <td>1030.000000</td>\n",
       "      <td>1030.000000</td>\n",
       "      <td>1030.000000</td>\n",
       "      <td>1030.000000</td>\n",
       "      <td>1030.000000</td>\n",
       "      <td>1030.000000</td>\n",
       "    </tr>\n",
       "    <tr>\n",
       "      <th>mean</th>\n",
       "      <td>281.167864</td>\n",
       "      <td>73.895825</td>\n",
       "      <td>54.188350</td>\n",
       "      <td>181.567282</td>\n",
       "      <td>6.204660</td>\n",
       "      <td>972.918932</td>\n",
       "      <td>773.580485</td>\n",
       "      <td>45.662136</td>\n",
       "      <td>35.817961</td>\n",
       "    </tr>\n",
       "    <tr>\n",
       "      <th>std</th>\n",
       "      <td>104.506364</td>\n",
       "      <td>86.279342</td>\n",
       "      <td>63.997004</td>\n",
       "      <td>21.354219</td>\n",
       "      <td>5.973841</td>\n",
       "      <td>77.753954</td>\n",
       "      <td>80.175980</td>\n",
       "      <td>63.169912</td>\n",
       "      <td>16.705742</td>\n",
       "    </tr>\n",
       "    <tr>\n",
       "      <th>min</th>\n",
       "      <td>102.000000</td>\n",
       "      <td>0.000000</td>\n",
       "      <td>0.000000</td>\n",
       "      <td>121.800000</td>\n",
       "      <td>0.000000</td>\n",
       "      <td>801.000000</td>\n",
       "      <td>594.000000</td>\n",
       "      <td>1.000000</td>\n",
       "      <td>2.330000</td>\n",
       "    </tr>\n",
       "    <tr>\n",
       "      <th>25%</th>\n",
       "      <td>192.375000</td>\n",
       "      <td>0.000000</td>\n",
       "      <td>0.000000</td>\n",
       "      <td>164.900000</td>\n",
       "      <td>0.000000</td>\n",
       "      <td>932.000000</td>\n",
       "      <td>730.950000</td>\n",
       "      <td>7.000000</td>\n",
       "      <td>23.710000</td>\n",
       "    </tr>\n",
       "    <tr>\n",
       "      <th>50%</th>\n",
       "      <td>272.900000</td>\n",
       "      <td>22.000000</td>\n",
       "      <td>0.000000</td>\n",
       "      <td>185.000000</td>\n",
       "      <td>6.400000</td>\n",
       "      <td>968.000000</td>\n",
       "      <td>779.500000</td>\n",
       "      <td>28.000000</td>\n",
       "      <td>34.445000</td>\n",
       "    </tr>\n",
       "    <tr>\n",
       "      <th>75%</th>\n",
       "      <td>350.000000</td>\n",
       "      <td>142.950000</td>\n",
       "      <td>118.300000</td>\n",
       "      <td>192.000000</td>\n",
       "      <td>10.200000</td>\n",
       "      <td>1029.400000</td>\n",
       "      <td>824.000000</td>\n",
       "      <td>56.000000</td>\n",
       "      <td>46.135000</td>\n",
       "    </tr>\n",
       "    <tr>\n",
       "      <th>max</th>\n",
       "      <td>540.000000</td>\n",
       "      <td>359.400000</td>\n",
       "      <td>200.100000</td>\n",
       "      <td>247.000000</td>\n",
       "      <td>32.200000</td>\n",
       "      <td>1145.000000</td>\n",
       "      <td>992.600000</td>\n",
       "      <td>365.000000</td>\n",
       "      <td>82.600000</td>\n",
       "    </tr>\n",
       "  </tbody>\n",
       "</table>\n",
       "</div>"
      ],
      "text/plain": [
       "            Cement  Blast Furnace Slag      Fly Ash        Water  \\\n",
       "count  1030.000000         1030.000000  1030.000000  1030.000000   \n",
       "mean    281.167864           73.895825    54.188350   181.567282   \n",
       "std     104.506364           86.279342    63.997004    21.354219   \n",
       "min     102.000000            0.000000     0.000000   121.800000   \n",
       "25%     192.375000            0.000000     0.000000   164.900000   \n",
       "50%     272.900000           22.000000     0.000000   185.000000   \n",
       "75%     350.000000          142.950000   118.300000   192.000000   \n",
       "max     540.000000          359.400000   200.100000   247.000000   \n",
       "\n",
       "       Superplasticizer  Coarse Aggregate  Fine Aggregate          Age  \\\n",
       "count       1030.000000       1030.000000     1030.000000  1030.000000   \n",
       "mean           6.204660        972.918932      773.580485    45.662136   \n",
       "std            5.973841         77.753954       80.175980    63.169912   \n",
       "min            0.000000        801.000000      594.000000     1.000000   \n",
       "25%            0.000000        932.000000      730.950000     7.000000   \n",
       "50%            6.400000        968.000000      779.500000    28.000000   \n",
       "75%           10.200000       1029.400000      824.000000    56.000000   \n",
       "max           32.200000       1145.000000      992.600000   365.000000   \n",
       "\n",
       "          Strength  \n",
       "count  1030.000000  \n",
       "mean     35.817961  \n",
       "std      16.705742  \n",
       "min       2.330000  \n",
       "25%      23.710000  \n",
       "50%      34.445000  \n",
       "75%      46.135000  \n",
       "max      82.600000  "
      ]
     },
     "execution_count": 8,
     "metadata": {},
     "output_type": "execute_result"
    }
   ],
   "source": [
    "concrete_data.describe()"
   ]
  },
  {
   "cell_type": "code",
   "execution_count": 9,
   "metadata": {
    "tags": []
   },
   "outputs": [
    {
     "data": {
      "text/plain": [
       "Cement                0\n",
       "Blast Furnace Slag    0\n",
       "Fly Ash               0\n",
       "Water                 0\n",
       "Superplasticizer      0\n",
       "Coarse Aggregate      0\n",
       "Fine Aggregate        0\n",
       "Age                   0\n",
       "Strength              0\n",
       "dtype: int64"
      ]
     },
     "execution_count": 9,
     "metadata": {},
     "output_type": "execute_result"
    }
   ],
   "source": [
    "concrete_data.isnull().sum()"
   ]
  },
  {
   "cell_type": "markdown",
   "metadata": {},
   "source": [
    "The data looks very clean and is ready to be used to build our model.\n"
   ]
  },
  {
   "cell_type": "markdown",
   "metadata": {},
   "source": [
    "#### Split data into predictors and target\n"
   ]
  },
  {
   "cell_type": "markdown",
   "metadata": {},
   "source": [
    "Lets separate our data into predictors (X) and target (y)"
   ]
  },
  {
   "cell_type": "code",
   "execution_count": 10,
   "metadata": {
    "tags": []
   },
   "outputs": [],
   "source": [
    "target = \"Strength\"\n",
    "X = concrete_data.copy()\n",
    "y = X.pop(target)"
   ]
  },
  {
   "cell_type": "code",
   "execution_count": 11,
   "metadata": {
    "tags": []
   },
   "outputs": [
    {
     "data": {
      "text/html": [
       "<div>\n",
       "<style scoped>\n",
       "    .dataframe tbody tr th:only-of-type {\n",
       "        vertical-align: middle;\n",
       "    }\n",
       "\n",
       "    .dataframe tbody tr th {\n",
       "        vertical-align: top;\n",
       "    }\n",
       "\n",
       "    .dataframe thead th {\n",
       "        text-align: right;\n",
       "    }\n",
       "</style>\n",
       "<table border=\"1\" class=\"dataframe\">\n",
       "  <thead>\n",
       "    <tr style=\"text-align: right;\">\n",
       "      <th></th>\n",
       "      <th>Cement</th>\n",
       "      <th>Blast Furnace Slag</th>\n",
       "      <th>Fly Ash</th>\n",
       "      <th>Water</th>\n",
       "      <th>Superplasticizer</th>\n",
       "      <th>Coarse Aggregate</th>\n",
       "      <th>Fine Aggregate</th>\n",
       "      <th>Age</th>\n",
       "    </tr>\n",
       "  </thead>\n",
       "  <tbody>\n",
       "    <tr>\n",
       "      <th>0</th>\n",
       "      <td>540.0</td>\n",
       "      <td>0.0</td>\n",
       "      <td>0.0</td>\n",
       "      <td>162.0</td>\n",
       "      <td>2.5</td>\n",
       "      <td>1040.0</td>\n",
       "      <td>676.0</td>\n",
       "      <td>28</td>\n",
       "    </tr>\n",
       "    <tr>\n",
       "      <th>1</th>\n",
       "      <td>540.0</td>\n",
       "      <td>0.0</td>\n",
       "      <td>0.0</td>\n",
       "      <td>162.0</td>\n",
       "      <td>2.5</td>\n",
       "      <td>1055.0</td>\n",
       "      <td>676.0</td>\n",
       "      <td>28</td>\n",
       "    </tr>\n",
       "    <tr>\n",
       "      <th>2</th>\n",
       "      <td>332.5</td>\n",
       "      <td>142.5</td>\n",
       "      <td>0.0</td>\n",
       "      <td>228.0</td>\n",
       "      <td>0.0</td>\n",
       "      <td>932.0</td>\n",
       "      <td>594.0</td>\n",
       "      <td>270</td>\n",
       "    </tr>\n",
       "    <tr>\n",
       "      <th>3</th>\n",
       "      <td>332.5</td>\n",
       "      <td>142.5</td>\n",
       "      <td>0.0</td>\n",
       "      <td>228.0</td>\n",
       "      <td>0.0</td>\n",
       "      <td>932.0</td>\n",
       "      <td>594.0</td>\n",
       "      <td>365</td>\n",
       "    </tr>\n",
       "    <tr>\n",
       "      <th>4</th>\n",
       "      <td>198.6</td>\n",
       "      <td>132.4</td>\n",
       "      <td>0.0</td>\n",
       "      <td>192.0</td>\n",
       "      <td>0.0</td>\n",
       "      <td>978.4</td>\n",
       "      <td>825.5</td>\n",
       "      <td>360</td>\n",
       "    </tr>\n",
       "  </tbody>\n",
       "</table>\n",
       "</div>"
      ],
      "text/plain": [
       "   Cement  Blast Furnace Slag  Fly Ash  Water  Superplasticizer  \\\n",
       "0   540.0                 0.0      0.0  162.0               2.5   \n",
       "1   540.0                 0.0      0.0  162.0               2.5   \n",
       "2   332.5               142.5      0.0  228.0               0.0   \n",
       "3   332.5               142.5      0.0  228.0               0.0   \n",
       "4   198.6               132.4      0.0  192.0               0.0   \n",
       "\n",
       "   Coarse Aggregate  Fine Aggregate  Age  \n",
       "0            1040.0           676.0   28  \n",
       "1            1055.0           676.0   28  \n",
       "2             932.0           594.0  270  \n",
       "3             932.0           594.0  365  \n",
       "4             978.4           825.5  360  "
      ]
     },
     "execution_count": 11,
     "metadata": {},
     "output_type": "execute_result"
    }
   ],
   "source": [
    "X.head()"
   ]
  },
  {
   "cell_type": "code",
   "execution_count": 12,
   "metadata": {
    "tags": []
   },
   "outputs": [
    {
     "data": {
      "text/plain": [
       "0    79.99\n",
       "1    61.89\n",
       "2    40.27\n",
       "3    41.05\n",
       "4    44.30\n",
       "Name: Strength, dtype: float64"
      ]
     },
     "execution_count": 12,
     "metadata": {},
     "output_type": "execute_result"
    }
   ],
   "source": [
    "y.head()"
   ]
  },
  {
   "cell_type": "markdown",
   "metadata": {},
   "source": [
    "Let's do a quick sanity check of the predictors and the target dataframes.\n"
   ]
  },
  {
   "cell_type": "markdown",
   "metadata": {},
   "source": [
    "Finally, the last step is to normalize the data by substracting the mean and dividing by the standard deviation.\n"
   ]
  },
  {
   "cell_type": "code",
   "execution_count": 13,
   "metadata": {
    "tags": []
   },
   "outputs": [],
   "source": [
    "# number of predictors\n",
    "n_cols      = X.shape[1]\n",
    "input_shape = (n_cols,)"
   ]
  },
  {
   "cell_type": "markdown",
   "metadata": {},
   "source": [
    "Let's save the number of predictors to *n_cols* since we will need this number when building our network.\n"
   ]
  },
  {
   "cell_type": "markdown",
   "metadata": {},
   "source": [
    "<a id=\"item1\"></a>\n"
   ]
  },
  {
   "cell_type": "markdown",
   "metadata": {},
   "source": [
    "##### Part A: Build a baseline model (5 marks)\n",
    "Use the Keras library to build a neural network with the following:\n",
    "\n",
    "One hidden layer of 10 nodes, and a ReLU activation function\n",
    "Use the adam optimizer and the mean squared error as the loss function.\n",
    "Randomly split the data into a training and test sets by holding 30% of the data for testing. You can use the train_test_split helper function from Scikit-learn.\n",
    "\n",
    "Train the model on the training data using 50 epochs.\n",
    "\n",
    "Evaluate the model on the test data and compute the mean squared error between the predicted concrete strength and the actual concrete strength. You can use the mean_squared_error function from Scikit-learn.\n",
    "\n",
    "Repeat steps 1 - 3, 50 times, i.e., create a list of 50 mean squared errors.\n",
    "\n",
    "Report the mean and the standard deviation of the mean squared errors.\n"
   ]
  },
  {
   "cell_type": "markdown",
   "metadata": {},
   "source": [
    "## Part A.1: Split data into training and test\n"
   ]
  },
  {
   "cell_type": "code",
   "execution_count": 14,
   "metadata": {
    "tags": []
   },
   "outputs": [
    {
     "name": "stderr",
     "output_type": "stream",
     "text": [
      "/home/jupyterlab/conda/envs/python/lib/python3.7/site-packages/sklearn/utils/validation.py:37: DeprecationWarning: distutils Version classes are deprecated. Use packaging.version instead.\n",
      "  LARGE_SPARSE_SUPPORTED = LooseVersion(scipy_version) >= '0.14.0'\n"
     ]
    }
   ],
   "source": [
    "# Import the train_test_split of scikit-learn\n",
    "# Will use it later for the train/test split\n",
    "from sklearn.model_selection import train_test_split"
   ]
  },
  {
   "cell_type": "code",
   "execution_count": 15,
   "metadata": {
    "tags": []
   },
   "outputs": [],
   "source": [
    "##### Part A.2: Train a regression model"
   ]
  },
  {
   "cell_type": "code",
   "execution_count": 16,
   "metadata": {
    "tags": []
   },
   "outputs": [],
   "source": [
    "from tensorflow import keras as K\n",
    "from tensorflow.keras.models import Sequential\n",
    "from tensorflow.keras.layers import Dense"
   ]
  },
  {
   "cell_type": "code",
   "execution_count": 17,
   "metadata": {
    "tags": []
   },
   "outputs": [],
   "source": [
    "#Build a Neural Network"
   ]
  },
  {
   "cell_type": "code",
   "execution_count": 18,
   "metadata": {
    "tags": []
   },
   "outputs": [],
   "source": [
    "def regression_model(network_arch,\n",
    "                     input_shape,\n",
    "                     optimizer=\"adam\",\n",
    "                     loss=\"mean_squared_error\"):\n",
    "    \n",
    "        # create model\n",
    "    model = Sequential()\n",
    "    \n",
    "    nlayers     = len(network_arch)\n",
    "    final_layer = \"layer_\" + str(nlayers)\n",
    "    \n",
    "    for k,layer in network_arch.items():\n",
    "        n_units    = layer.get(\"n_units\")\n",
    "        activation = layer.get(\"activation\")\n",
    "        if k == \"layer_1\":\n",
    "            model.add(Dense(n_units, activation=activation, input_shape=input_shape))\n",
    "        elif k == final_layer:\n",
    "            model.add(Dense(n_units))\n",
    "        else:\n",
    "            model.add(Dense(n_units, activation=activation))\n",
    "    \n",
    "    # compile model\n",
    "    model.compile(optimizer=optimizer, loss=loss)\n",
    "    \n",
    "    return model"
   ]
  },
  {
   "cell_type": "code",
   "execution_count": 19,
   "metadata": {
    "tags": []
   },
   "outputs": [],
   "source": [
    "### Model Architecture \n",
    "\n"
   ]
  },
  {
   "cell_type": "code",
   "execution_count": 20,
   "metadata": {
    "tags": []
   },
   "outputs": [],
   "source": [
    "#Lets define the architecture of the model that we're going to use. In this part we are going to build a model with\n",
    "\n",
    "#one hidden layer of 10 nodes,and a ReLU activation function"
   ]
  },
  {
   "cell_type": "code",
   "execution_count": 21,
   "metadata": {
    "tags": []
   },
   "outputs": [
    {
     "name": "stdout",
     "output_type": "stream",
     "text": [
      "\n",
      "input_shape    = (8,)\n",
      "network_config = {'layer_1': {'n_units': 10, 'activation': 'relu'}, 'layer_2': {'n_units': 1}}\n",
      "\n"
     ]
    }
   ],
   "source": [
    "# model architecture\n",
    "model_architecture1 = {\"layer_1\": {\"n_units\": 10, \"activation\": \"relu\"},\n",
    "                       \"layer_2\": {\"n_units\":  1},\n",
    "                      }\n",
    "\n",
    "print()\n",
    "print(\"input_shape    = {}\".format(input_shape))\n",
    "print(\"network_config = {}\".format(model_architecture1))\n",
    "print()"
   ]
  },
  {
   "cell_type": "code",
   "execution_count": 22,
   "metadata": {
    "tags": []
   },
   "outputs": [],
   "source": [
    "### Part A.3: Train and test a regression model several times\n",
    "## Will train and test a model 50 times. Will recollect the performances as mean squared error between the predicted concrete strength and the actual concrete strength"
   ]
  },
  {
   "cell_type": "code",
   "execution_count": 23,
   "metadata": {
    "tags": []
   },
   "outputs": [],
   "source": [
    "# import the metric to evaluate the model performance\n",
    "from sklearn.metrics import mean_squared_error"
   ]
  },
  {
   "cell_type": "code",
   "execution_count": 24,
   "metadata": {
    "tags": []
   },
   "outputs": [],
   "source": [
    "# Define a function for the loops \n",
    "def train_and_test_several_models(X,y,\n",
    "                                  test_size,\n",
    "                                  model_arch,\n",
    "                                  input_shape,\n",
    "                                  optimizer,\n",
    "                                  loss,\n",
    "                                  niterations,\n",
    "                                  epochs,\n",
    "                                  pred_norm = False,\n",
    "                                  seed = 345,\n",
    "                                  verbose = 2,\n",
    "                                 ):\n",
    "    # Array to store the results of the model evaluation on the test set\n",
    "    metric_list = np.zeros(niterations)\n",
    "    \n",
    "    print()\n",
    "    print(\"Launching {} iterations of\".format(niterations))\n",
    "    print(\" - train/test split => test_size = {}\".format(test_size))\n",
    "    if pred_norm:\n",
    "        print(\" - Apply predictors normalization\")\n",
    "    else:\n",
    "        print(\" - No    predictors normalization\")\n",
    "    print(\" - model architecture: {}\".format(model_arch))\n",
    "    print(\" - model training:\")\n",
    "    print(\"   * epochs    = {}\".format(epochs))\n",
    "    print(\"   * optimizer = {}\".format(optimizer))\n",
    "    print(\"   * loss      = {}\".format(loss))\n",
    "    print()\n",
    "    \n",
    "    # Start the loop\n",
    "    for i in range(niterations):\n",
    "        # Apply the train test split\n",
    "        myseed = seed + i*2 # seed used for the train_test_split\n",
    "        X_train, X_test, y_train, y_test = train_test_split(X, y, test_size=test_size, random_state=myseed)\n",
    "\n",
    "        # Start by building the model\n",
    "        model = regression_model(network_arch = model_arch,\n",
    "                                 input_shape  = input_shape,\n",
    "                                 optimizer    = optimizer,\n",
    "                                 loss         = loss)\n",
    "        \n",
    "        if pred_norm:\n",
    "            # If requested apply predictors normalization\n",
    "            # first calculate the mean and std on the train-sample\n",
    "            X_train_mean = X_train.mean()\n",
    "            X_train_std  = X_train.std()\n",
    "            \n",
    "            # then apply them on both, the train and test samples\n",
    "            X_train = (X_train - X_train_mean)/X_train_std\n",
    "            X_test  = (X_test  - X_train_mean)/X_train_std\n",
    "\n",
    "        myverbose = 0\n",
    "        if i == 0:\n",
    "            myverbose = verbose\n",
    "            print(\"Train/test splitting for iteration {}\".format(i+1))\n",
    "            print(\"  X_train.shape = {}\".format(X_train.shape))\n",
    "            print(\"  y_train.shape = {}\".format(y_train.shape))\n",
    "            print(\"  X_test.shape  = {}\".format(X_test.shape))\n",
    "            print(\"  y_test.shape  = {}\".format(y_test.shape))\n",
    "            print(X_train.head())\n",
    "            print()\n",
    "            print(\"Model summary for iteration {}\".format(i+1))\n",
    "            model.summary()\n",
    "            print()\n",
    "            print()\n",
    "\n",
    "        # Model training\n",
    "        model.fit(X_train, y_train, epochs=epochs, verbose=verbose)\n",
    "\n",
    "        # model predictions on test sample\n",
    "        y_pred = model.predict(X_test)\n",
    "\n",
    "        # Model evaluation on test sample\n",
    "        result = np.sqrt(mean_squared_error(y_test,y_pred))\n",
    "        print(\"{}: sqrt(mse) = {}\".format(i+1,result))\n",
    "        metric_list[i] = result\n",
    "    \n",
    "    \n",
    "    print()\n",
    "    \n",
    "    return metric_list"
   ]
  },
  {
   "cell_type": "code",
   "execution_count": 25,
   "metadata": {
    "tags": []
   },
   "outputs": [],
   "source": [
    "# Define some variables to be used in all parts of this asignment\n",
    "niterations = 50  # Number of iterations\n",
    "test_size   = 0.3 # test sample size"
   ]
  },
  {
   "cell_type": "code",
   "execution_count": 26,
   "metadata": {
    "tags": []
   },
   "outputs": [
    {
     "name": "stdout",
     "output_type": "stream",
     "text": [
      "\n",
      "Launching 50 iterations of\n",
      " - train/test split => test_size = 0.3\n",
      " - No    predictors normalization\n",
      " - model architecture: {'layer_1': {'n_units': 10, 'activation': 'relu'}, 'layer_2': {'n_units': 1}}\n",
      " - model training:\n",
      "   * epochs    = 50\n",
      "   * optimizer = adam\n",
      "   * loss      = mean_squared_error\n",
      "\n",
      "WARNING:tensorflow:From /home/jupyterlab/conda/envs/python/lib/python3.7/site-packages/tensorflow/python/ops/init_ops.py:1251: calling VarianceScaling.__init__ (from tensorflow.python.ops.init_ops) with dtype is deprecated and will be removed in a future version.\n",
      "Instructions for updating:\n",
      "Call initializer instance with the dtype argument instead of passing it to the constructor\n",
      "Train/test splitting for iteration 1\n",
      "  X_train.shape = (721, 8)\n",
      "  y_train.shape = (721,)\n",
      "  X_test.shape  = (309, 8)\n",
      "  y_test.shape  = (309,)\n",
      "     Cement  Blast Furnace Slag  Fly Ash  Water  Superplasticizer  \\\n",
      "870   149.0               139.0    109.0  193.0               6.0   \n",
      "875   155.0               183.0      0.0  193.0               9.0   \n",
      "488   387.0                20.0     94.0  157.0              14.3   \n",
      "10    198.6               132.4      0.0  192.0               0.0   \n",
      "391   397.0                17.2    158.0  167.0              20.8   \n",
      "\n",
      "     Coarse Aggregate  Fine Aggregate  Age  \n",
      "870             892.0           780.0   28  \n",
      "875            1047.0           697.0   28  \n",
      "488             938.0           845.0    3  \n",
      "10              978.4           825.5   90  \n",
      "391             967.0           633.0   28  \n",
      "\n",
      "Model summary for iteration 1\n",
      "Model: \"sequential\"\n",
      "_________________________________________________________________\n",
      "Layer (type)                 Output Shape              Param #   \n",
      "=================================================================\n",
      "dense (Dense)                (None, 10)                90        \n",
      "_________________________________________________________________\n",
      "dense_1 (Dense)              (None, 1)                 11        \n",
      "=================================================================\n",
      "Total params: 101\n",
      "Trainable params: 101\n",
      "Non-trainable params: 0\n",
      "_________________________________________________________________\n",
      "\n",
      "\n"
     ]
    },
    {
     "name": "stderr",
     "output_type": "stream",
     "text": [
      "2024-09-20 14:43:25.069703: I tensorflow/core/platform/cpu_feature_guard.cc:142] Your CPU supports instructions that this TensorFlow binary was not compiled to use: SSE4.1 SSE4.2 AVX AVX2 AVX512F FMA\n",
      "2024-09-20 14:43:25.080152: I tensorflow/core/platform/profile_utils/cpu_utils.cc:94] CPU Frequency: 2494075000 Hz\n",
      "2024-09-20 14:43:25.080737: I tensorflow/compiler/xla/service/service.cc:168] XLA service 0x55691517a8a0 executing computations on platform Host. Devices:\n",
      "2024-09-20 14:43:25.080778: I tensorflow/compiler/xla/service/service.cc:175]   StreamExecutor device (0): <undefined>, <undefined>\n",
      "2024-09-20 14:43:25.115223: W tensorflow/compiler/jit/mark_for_compilation_pass.cc:1412] (One-time warning): Not using XLA:CPU for cluster because envvar TF_XLA_FLAGS=--tf_xla_cpu_global_jit was not set.  If you want XLA:CPU, either set that envvar, or use experimental_jit_scope to enable XLA:CPU.  To confirm that XLA is active, pass --vmodule=xla_compilation_cache=1 (as a proper command-line flag, not via TF_XLA_FLAGS) or set the envvar XLA_FLAGS=--xla_hlo_profile.\n"
     ]
    },
    {
     "name": "stdout",
     "output_type": "stream",
     "text": [
      "1: sqrt(mse) = 17.8050584539525\n",
      "2: sqrt(mse) = 14.459154926953005\n",
      "3: sqrt(mse) = 11.122470057374624\n",
      "4: sqrt(mse) = 22.368190448164306\n",
      "5: sqrt(mse) = 10.284403167784875\n",
      "6: sqrt(mse) = 11.766908994635235\n",
      "7: sqrt(mse) = 34.982148823625465\n",
      "8: sqrt(mse) = 17.727172921200076\n",
      "9: sqrt(mse) = 9.431453980330168\n",
      "10: sqrt(mse) = 14.765398527047184\n",
      "11: sqrt(mse) = 20.345390679587794\n",
      "12: sqrt(mse) = 22.33874066957657\n",
      "13: sqrt(mse) = 10.922699982945197\n",
      "14: sqrt(mse) = 13.071531161398294\n",
      "15: sqrt(mse) = 10.0566807952597\n",
      "16: sqrt(mse) = 12.710172299949877\n",
      "17: sqrt(mse) = 24.958335901400083\n",
      "18: sqrt(mse) = 18.009704150928936\n",
      "19: sqrt(mse) = 21.055520493236482\n",
      "20: sqrt(mse) = 19.99744876963989\n",
      "21: sqrt(mse) = 38.11586486904064\n",
      "22: sqrt(mse) = 16.639173671552072\n",
      "23: sqrt(mse) = 10.572415494379928\n",
      "24: sqrt(mse) = 15.180975290513388\n",
      "25: sqrt(mse) = 10.9131690533304\n",
      "26: sqrt(mse) = 12.563286891596077\n",
      "27: sqrt(mse) = 19.114416308124035\n",
      "28: sqrt(mse) = 10.350348672398377\n",
      "29: sqrt(mse) = 14.893134036358601\n",
      "30: sqrt(mse) = 13.894361097763488\n",
      "31: sqrt(mse) = 11.142508274113345\n",
      "32: sqrt(mse) = 19.85890566328534\n",
      "33: sqrt(mse) = 14.222363877247883\n",
      "34: sqrt(mse) = 14.271857178350492\n",
      "35: sqrt(mse) = 8.427065352103316\n",
      "36: sqrt(mse) = 14.589029231655923\n",
      "37: sqrt(mse) = 20.57038095632102\n",
      "38: sqrt(mse) = 14.055257266635305\n",
      "39: sqrt(mse) = 17.893978136213548\n",
      "40: sqrt(mse) = 11.793023709911177\n",
      "41: sqrt(mse) = 10.813457811200019\n",
      "42: sqrt(mse) = 9.497794160341115\n",
      "43: sqrt(mse) = 9.308339993024946\n",
      "44: sqrt(mse) = 18.789850639916775\n",
      "45: sqrt(mse) = 14.230297132261985\n",
      "46: sqrt(mse) = 23.64100119816926\n",
      "47: sqrt(mse) = 34.73799903559875\n",
      "48: sqrt(mse) = 22.776457736652596\n",
      "49: sqrt(mse) = 13.80074887452526\n",
      "50: sqrt(mse) = 11.449007385300842\n",
      "\n"
     ]
    }
   ],
   "source": [
    "sq_mse_list_A = train_and_test_several_models(X = X,\n",
    "                                              y = y,\n",
    "                                              test_size   = test_size,\n",
    "                                              model_arch  = model_architecture1,\n",
    "                                              input_shape = input_shape,\n",
    "                                              optimizer   = \"adam\",\n",
    "                                              loss        = \"mean_squared_error\",\n",
    "                                              niterations = niterations,\n",
    "                                              epochs      = 50,\n",
    "                                              seed        = 345,\n",
    "                                              verbose     = 0,\n",
    "                                              pred_norm   = False,\n",
    "                                             )"
   ]
  },
  {
   "cell_type": "code",
   "execution_count": 27,
   "metadata": {
    "tags": []
   },
   "outputs": [],
   "source": [
    "## Part A results"
   ]
  },
  {
   "cell_type": "code",
   "execution_count": 28,
   "metadata": {
    "tags": []
   },
   "outputs": [
    {
     "data": {
      "text/html": [
       "<div>\n",
       "<style scoped>\n",
       "    .dataframe tbody tr th:only-of-type {\n",
       "        vertical-align: middle;\n",
       "    }\n",
       "\n",
       "    .dataframe tbody tr th {\n",
       "        vertical-align: top;\n",
       "    }\n",
       "\n",
       "    .dataframe thead th {\n",
       "        text-align: right;\n",
       "    }\n",
       "</style>\n",
       "<table border=\"1\" class=\"dataframe\">\n",
       "  <thead>\n",
       "    <tr style=\"text-align: right;\">\n",
       "      <th></th>\n",
       "      <th>Part</th>\n",
       "      <th>mean_sq_mse</th>\n",
       "      <th>std_sq_mse</th>\n",
       "    </tr>\n",
       "  </thead>\n",
       "  <tbody>\n",
       "    <tr>\n",
       "      <th>0</th>\n",
       "      <td>A</td>\n",
       "      <td>16.325701</td>\n",
       "      <td>6.555925</td>\n",
       "    </tr>\n",
       "  </tbody>\n",
       "</table>\n",
       "</div>"
      ],
      "text/plain": [
       "  Part  mean_sq_mse  std_sq_mse\n",
       "0    A    16.325701    6.555925"
      ]
     },
     "execution_count": 28,
     "metadata": {},
     "output_type": "execute_result"
    }
   ],
   "source": [
    "# Calculate the mean and the standard deviation of the metric on the 50 samplings\n",
    "mean_sqmse_A = np.mean(sq_mse_list_A)\n",
    "std_sqmse_A  = np.std(sq_mse_list_A)\n",
    "\n",
    "# Generate a data frame to store the results of the differents parts of this project\n",
    "df_results = pd.DataFrame.from_dict({\"Part\": [\"A\"],\"mean_sq_mse\": [mean_sqmse_A], \"std_sq_mse\": [std_sqmse_A]})\n",
    "df_results"
   ]
  },
  {
   "cell_type": "code",
   "execution_count": 29,
   "metadata": {
    "tags": []
   },
   "outputs": [],
   "source": [
    "## PART B \n",
    "## Normalise Data \n",
    "## Repeat Part A but use a normalized version of the data. Recall that one way to normalize the data is by subtracting the mean from the individual predictors and dividing by the standard deviation."
   ]
  },
  {
   "cell_type": "code",
   "execution_count": 30,
   "metadata": {
    "tags": []
   },
   "outputs": [],
   "source": [
    "## How does the mean of the mean squared errors compare to that from Step A?"
   ]
  },
  {
   "cell_type": "code",
   "execution_count": 31,
   "metadata": {
    "tags": []
   },
   "outputs": [
    {
     "name": "stdout",
     "output_type": "stream",
     "text": [
      "\n",
      "Launching 50 iterations of\n",
      " - train/test split => test_size = 0.3\n",
      " - Apply predictors normalization\n",
      " - model architecture: {'layer_1': {'n_units': 10, 'activation': 'relu'}, 'layer_2': {'n_units': 1}}\n",
      " - model training:\n",
      "   * epochs    = 50\n",
      "   * optimizer = adam\n",
      "   * loss      = mean_squared_error\n",
      "\n",
      "Train/test splitting for iteration 1\n",
      "  X_train.shape = (721, 8)\n",
      "  y_train.shape = (721,)\n",
      "  X_test.shape  = (309, 8)\n",
      "  y_test.shape  = (309,)\n",
      "       Cement  Blast Furnace Slag   Fly Ash     Water  Superplasticizer  \\\n",
      "723  0.260617           -0.863998 -0.825639  0.448707         -1.007613   \n",
      "112  1.477748            1.174001 -0.825639  0.163870          0.870100   \n",
      "278 -0.292281           -0.863998  1.058232  0.282552         -0.026465   \n",
      "641 -0.305490           -0.863998 -0.825639 -0.026021         -1.007613   \n",
      "270 -0.477209           -0.863998  1.110782 -0.405804          0.125781   \n",
      "\n",
      "     Coarse Aggregate  Fine Aggregate       Age  \n",
      "723          0.481434        0.718580 -0.271735  \n",
      "112         -1.145439       -0.775490 -0.608947  \n",
      "278          0.691353       -0.166115  0.884424  \n",
      "641          1.607829        0.596215 -0.608947  \n",
      "270          1.049752        0.088403 -0.496543  \n",
      "\n",
      "Model summary for iteration 1\n",
      "Model: \"sequential_50\"\n",
      "_________________________________________________________________\n",
      "Layer (type)                 Output Shape              Param #   \n",
      "=================================================================\n",
      "dense_100 (Dense)            (None, 10)                90        \n",
      "_________________________________________________________________\n",
      "dense_101 (Dense)            (None, 1)                 11        \n",
      "=================================================================\n",
      "Total params: 101\n",
      "Trainable params: 101\n",
      "Non-trainable params: 0\n",
      "_________________________________________________________________\n",
      "\n",
      "\n",
      "1: sqrt(mse) = 17.082946762810863\n",
      "2: sqrt(mse) = 18.575513178485014\n",
      "3: sqrt(mse) = 20.515382565009116\n",
      "4: sqrt(mse) = 20.046923874848257\n",
      "5: sqrt(mse) = 16.828357858899412\n",
      "6: sqrt(mse) = 17.800348088981288\n",
      "7: sqrt(mse) = 17.29871934172482\n",
      "8: sqrt(mse) = 16.8165348754654\n",
      "9: sqrt(mse) = 16.51356143032495\n",
      "10: sqrt(mse) = 18.31066954598247\n",
      "11: sqrt(mse) = 20.036840461144898\n",
      "12: sqrt(mse) = 15.98139662284846\n",
      "13: sqrt(mse) = 20.443389055484808\n",
      "14: sqrt(mse) = 19.621070558692846\n",
      "15: sqrt(mse) = 15.461267153387253\n",
      "16: sqrt(mse) = 16.292539455772516\n",
      "17: sqrt(mse) = 20.312255682562174\n",
      "18: sqrt(mse) = 18.08074459661851\n",
      "19: sqrt(mse) = 16.68402463712383\n",
      "20: sqrt(mse) = 16.568199223785427\n",
      "21: sqrt(mse) = 19.138868205338934\n",
      "22: sqrt(mse) = 16.7477692646648\n",
      "23: sqrt(mse) = 17.125883300653097\n",
      "24: sqrt(mse) = 19.999102323535507\n",
      "25: sqrt(mse) = 16.504292056841997\n",
      "26: sqrt(mse) = 18.067433626403357\n",
      "27: sqrt(mse) = 23.819816723915572\n",
      "28: sqrt(mse) = 17.057997137775434\n",
      "29: sqrt(mse) = 20.889386695477626\n",
      "30: sqrt(mse) = 16.502305431321364\n",
      "31: sqrt(mse) = 14.654759428741405\n",
      "32: sqrt(mse) = 23.009725054218695\n",
      "33: sqrt(mse) = 17.779181767240917\n",
      "34: sqrt(mse) = 18.25022573542258\n",
      "35: sqrt(mse) = 15.650824521653268\n",
      "36: sqrt(mse) = 17.39527573402026\n",
      "37: sqrt(mse) = 17.837633104052188\n",
      "38: sqrt(mse) = 17.979588912998473\n",
      "39: sqrt(mse) = 20.155754501235975\n",
      "40: sqrt(mse) = 16.504173893122044\n",
      "41: sqrt(mse) = 18.225304809820233\n",
      "42: sqrt(mse) = 22.16856148903225\n",
      "43: sqrt(mse) = 20.681245222793493\n",
      "44: sqrt(mse) = 18.331928454414765\n",
      "45: sqrt(mse) = 18.77317114025291\n",
      "46: sqrt(mse) = 16.988016627244463\n",
      "47: sqrt(mse) = 21.070320986416487\n",
      "48: sqrt(mse) = 21.609407324741046\n",
      "49: sqrt(mse) = 16.126104077801678\n",
      "50: sqrt(mse) = 19.41743215444516\n",
      "\n"
     ]
    }
   ],
   "source": [
    "# Just launch the function above (train_and_test_several_models), but with pred_norm = True\n",
    "sq_mse_list_B = train_and_test_several_models(X = X,\n",
    "                                              y = y,\n",
    "                                              test_size   = test_size,\n",
    "                                              model_arch  = model_architecture1,\n",
    "                                              input_shape = input_shape,\n",
    "                                              optimizer   = \"adam\",\n",
    "                                              loss        = \"mean_squared_error\",\n",
    "                                              niterations = niterations,\n",
    "                                              epochs      = 50,\n",
    "                                              seed        = 3675,\n",
    "                                              verbose     = 0,\n",
    "                                              pred_norm   = True,\n",
    "                                             )"
   ]
  },
  {
   "cell_type": "code",
   "execution_count": 32,
   "metadata": {
    "tags": []
   },
   "outputs": [
    {
     "data": {
      "text/html": [
       "<div>\n",
       "<style scoped>\n",
       "    .dataframe tbody tr th:only-of-type {\n",
       "        vertical-align: middle;\n",
       "    }\n",
       "\n",
       "    .dataframe tbody tr th {\n",
       "        vertical-align: top;\n",
       "    }\n",
       "\n",
       "    .dataframe thead th {\n",
       "        text-align: right;\n",
       "    }\n",
       "</style>\n",
       "<table border=\"1\" class=\"dataframe\">\n",
       "  <thead>\n",
       "    <tr style=\"text-align: right;\">\n",
       "      <th></th>\n",
       "      <th>Part</th>\n",
       "      <th>mean_sq_mse</th>\n",
       "      <th>std_sq_mse</th>\n",
       "    </tr>\n",
       "  </thead>\n",
       "  <tbody>\n",
       "    <tr>\n",
       "      <th>0</th>\n",
       "      <td>A</td>\n",
       "      <td>16.325701</td>\n",
       "      <td>6.555925</td>\n",
       "    </tr>\n",
       "    <tr>\n",
       "      <th>1</th>\n",
       "      <td>B</td>\n",
       "      <td>18.354643</td>\n",
       "      <td>2.025164</td>\n",
       "    </tr>\n",
       "  </tbody>\n",
       "</table>\n",
       "</div>"
      ],
      "text/plain": [
       "  Part  mean_sq_mse  std_sq_mse\n",
       "0    A    16.325701    6.555925\n",
       "1    B    18.354643    2.025164"
      ]
     },
     "execution_count": 32,
     "metadata": {},
     "output_type": "execute_result"
    }
   ],
   "source": [
    "# Calculate the mean and the standard deviation of the metric on the 50 samplings\n",
    "mean_sqmse_B = np.mean(sq_mse_list_B)\n",
    "std_sqmse_B  = np.std(sq_mse_list_B)\n",
    "\n",
    "df_results.loc[df_results.shape[0]] = [\"B\",mean_sqmse_B,std_sqmse_B]\n",
    "df_results"
   ]
  },
  {
   "cell_type": "code",
   "execution_count": 33,
   "metadata": {
    "tags": []
   },
   "outputs": [],
   "source": [
    "#How does the mean of the mean squared errors compare to that from Step A?\n",
    "# A - The mean doesn't change much, but the standard deviation is reduced a lot "
   ]
  },
  {
   "cell_type": "code",
   "execution_count": 34,
   "metadata": {
    "tags": []
   },
   "outputs": [],
   "source": [
    "## PART C\n",
    "## Increase the number of epochs\n",
    "# Repeat Part B but use 100 epochs this time for training.\n",
    "\n",
    "# How does the mean of the mean squared errors compare to that from Step B?"
   ]
  },
  {
   "cell_type": "code",
   "execution_count": 35,
   "metadata": {
    "tags": []
   },
   "outputs": [
    {
     "name": "stdout",
     "output_type": "stream",
     "text": [
      "\n",
      "Launching 50 iterations of\n",
      " - train/test split => test_size = 0.3\n",
      " - Apply predictors normalization\n",
      " - model architecture: {'layer_1': {'n_units': 10, 'activation': 'relu'}, 'layer_2': {'n_units': 1}}\n",
      " - model training:\n",
      "   * epochs    = 100\n",
      "   * optimizer = adam\n",
      "   * loss      = mean_squared_error\n",
      "\n",
      "Train/test splitting for iteration 1\n",
      "  X_train.shape = (721, 8)\n",
      "  y_train.shape = (721,)\n",
      "  X_test.shape  = (309, 8)\n",
      "  y_test.shape  = (309,)\n",
      "       Cement  Blast Furnace Slag   Fly Ash     Water  Superplasticizer  \\\n",
      "723  0.260617           -0.863998 -0.825639  0.448707         -1.007613   \n",
      "112  1.477748            1.174001 -0.825639  0.163870          0.870100   \n",
      "278 -0.292281           -0.863998  1.058232  0.282552         -0.026465   \n",
      "641 -0.305490           -0.863998 -0.825639 -0.026021         -1.007613   \n",
      "270 -0.477209           -0.863998  1.110782 -0.405804          0.125781   \n",
      "\n",
      "     Coarse Aggregate  Fine Aggregate       Age  \n",
      "723          0.481434        0.718580 -0.271735  \n",
      "112         -1.145439       -0.775490 -0.608947  \n",
      "278          0.691353       -0.166115  0.884424  \n",
      "641          1.607829        0.596215 -0.608947  \n",
      "270          1.049752        0.088403 -0.496543  \n",
      "\n",
      "Model summary for iteration 1\n",
      "Model: \"sequential_100\"\n",
      "_________________________________________________________________\n",
      "Layer (type)                 Output Shape              Param #   \n",
      "=================================================================\n",
      "dense_200 (Dense)            (None, 10)                90        \n",
      "_________________________________________________________________\n",
      "dense_201 (Dense)            (None, 1)                 11        \n",
      "=================================================================\n",
      "Total params: 101\n",
      "Trainable params: 101\n",
      "Non-trainable params: 0\n",
      "_________________________________________________________________\n",
      "\n",
      "\n",
      "1: sqrt(mse) = 12.93031267126434\n",
      "2: sqrt(mse) = 13.134723897318814\n",
      "3: sqrt(mse) = 12.837917360786697\n",
      "4: sqrt(mse) = 13.553339890763654\n",
      "5: sqrt(mse) = 12.825153110194224\n",
      "6: sqrt(mse) = 12.672508605789552\n",
      "7: sqrt(mse) = 12.682057625567925\n",
      "8: sqrt(mse) = 13.53796160912933\n",
      "9: sqrt(mse) = 13.460892038304678\n",
      "10: sqrt(mse) = 12.795603474833186\n",
      "11: sqrt(mse) = 15.670091908433958\n",
      "12: sqrt(mse) = 13.446728913551082\n",
      "13: sqrt(mse) = 12.71998287689367\n",
      "14: sqrt(mse) = 13.101747266015598\n",
      "15: sqrt(mse) = 12.592804950992711\n",
      "16: sqrt(mse) = 12.687084755959734\n",
      "17: sqrt(mse) = 13.815803769575297\n",
      "18: sqrt(mse) = 12.093804394575145\n",
      "19: sqrt(mse) = 13.44464870152698\n",
      "20: sqrt(mse) = 14.995806251377282\n",
      "21: sqrt(mse) = 12.534963240853301\n",
      "22: sqrt(mse) = 13.029600675389162\n",
      "23: sqrt(mse) = 13.105913499226093\n",
      "24: sqrt(mse) = 12.94810101406284\n",
      "25: sqrt(mse) = 11.999897829309749\n",
      "26: sqrt(mse) = 13.644526857805618\n",
      "27: sqrt(mse) = 13.341662196552976\n",
      "28: sqrt(mse) = 11.447960022080574\n",
      "29: sqrt(mse) = 12.728282060549326\n",
      "30: sqrt(mse) = 12.63162959405182\n",
      "31: sqrt(mse) = 12.283163857665894\n",
      "32: sqrt(mse) = 11.917932314060804\n",
      "33: sqrt(mse) = 11.715037829195305\n",
      "34: sqrt(mse) = 19.62070032088755\n",
      "35: sqrt(mse) = 12.177707338129725\n",
      "36: sqrt(mse) = 12.90110097758348\n",
      "37: sqrt(mse) = 13.828626295511057\n",
      "38: sqrt(mse) = 12.836815080328696\n",
      "39: sqrt(mse) = 12.362035999706489\n",
      "40: sqrt(mse) = 12.86191113206186\n",
      "41: sqrt(mse) = 12.464194050159145\n",
      "42: sqrt(mse) = 13.12658552793072\n",
      "43: sqrt(mse) = 12.977123190326965\n",
      "44: sqrt(mse) = 13.27446258846895\n",
      "45: sqrt(mse) = 14.381228122969544\n",
      "46: sqrt(mse) = 12.590997318705213\n",
      "47: sqrt(mse) = 14.548842278266633\n",
      "48: sqrt(mse) = 13.092112587312826\n",
      "49: sqrt(mse) = 12.96999170411791\n",
      "50: sqrt(mse) = 12.667059765315491\n",
      "\n"
     ]
    }
   ],
   "source": [
    "# Launch the function above (train_and_test_several_models), but with pred_norm = True and epochs = 100\n",
    "sq_mse_list_C = train_and_test_several_models(X = X,\n",
    "                                              y = y,\n",
    "                                              test_size   = test_size,\n",
    "                                              model_arch  = model_architecture1,\n",
    "                                              input_shape = input_shape,\n",
    "                                              optimizer   = \"adam\",\n",
    "                                              loss        = \"mean_squared_error\",\n",
    "                                              niterations = niterations,\n",
    "                                              epochs      = 100,\n",
    "                                              seed        = 3675,\n",
    "                                              verbose     = 0,\n",
    "                                              pred_norm   = True,\n",
    "                                             )"
   ]
  },
  {
   "cell_type": "code",
   "execution_count": 36,
   "metadata": {
    "tags": []
   },
   "outputs": [
    {
     "data": {
      "text/html": [
       "<div>\n",
       "<style scoped>\n",
       "    .dataframe tbody tr th:only-of-type {\n",
       "        vertical-align: middle;\n",
       "    }\n",
       "\n",
       "    .dataframe tbody tr th {\n",
       "        vertical-align: top;\n",
       "    }\n",
       "\n",
       "    .dataframe thead th {\n",
       "        text-align: right;\n",
       "    }\n",
       "</style>\n",
       "<table border=\"1\" class=\"dataframe\">\n",
       "  <thead>\n",
       "    <tr style=\"text-align: right;\">\n",
       "      <th></th>\n",
       "      <th>Part</th>\n",
       "      <th>mean_sq_mse</th>\n",
       "      <th>std_sq_mse</th>\n",
       "    </tr>\n",
       "  </thead>\n",
       "  <tbody>\n",
       "    <tr>\n",
       "      <th>0</th>\n",
       "      <td>A</td>\n",
       "      <td>16.325701</td>\n",
       "      <td>6.555925</td>\n",
       "    </tr>\n",
       "    <tr>\n",
       "      <th>1</th>\n",
       "      <td>B</td>\n",
       "      <td>18.354643</td>\n",
       "      <td>2.025164</td>\n",
       "    </tr>\n",
       "    <tr>\n",
       "      <th>2</th>\n",
       "      <td>C</td>\n",
       "      <td>13.140183</td>\n",
       "      <td>1.198785</td>\n",
       "    </tr>\n",
       "  </tbody>\n",
       "</table>\n",
       "</div>"
      ],
      "text/plain": [
       "  Part  mean_sq_mse  std_sq_mse\n",
       "0    A    16.325701    6.555925\n",
       "1    B    18.354643    2.025164\n",
       "2    C    13.140183    1.198785"
      ]
     },
     "execution_count": 36,
     "metadata": {},
     "output_type": "execute_result"
    }
   ],
   "source": [
    "# Calculate the mean and the standard deviation of the metric on the 50 samplings\n",
    "mean_sqmse_C = np.mean(sq_mse_list_C)\n",
    "std_sqmse_C  = np.std(sq_mse_list_C)\n",
    "\n",
    "df_results.loc[df_results.shape[0]] = [\"C\",mean_sqmse_C,std_sqmse_C]\n",
    "df_results"
   ]
  },
  {
   "cell_type": "code",
   "execution_count": 37,
   "metadata": {
    "tags": []
   },
   "outputs": [],
   "source": [
    "#By increasing the number of epocs we obtain more precise (lower mse mean) and stable (lower standard deviation) results"
   ]
  },
  {
   "cell_type": "code",
   "execution_count": 38,
   "metadata": {
    "tags": []
   },
   "outputs": [],
   "source": [
    "#### Part D: Increase the number of hidden layers"
   ]
  },
  {
   "cell_type": "code",
   "execution_count": 39,
   "metadata": {
    "tags": []
   },
   "outputs": [],
   "source": [
    "#Repeat part B but use a neural network with the following instead:\n",
    "\n",
    "#Three hidden layers, each of 10 nodes and ReLU activation function.\n",
    "#How does the mean of the mean squared errors compare to that from Step B?\n",
    "\n",
    "#We start by defining the new architecture"
   ]
  },
  {
   "cell_type": "code",
   "execution_count": 40,
   "metadata": {
    "tags": []
   },
   "outputs": [
    {
     "name": "stdout",
     "output_type": "stream",
     "text": [
      "\n",
      "input_shape    = (8,)\n",
      "network_config = {'layer_1': {'n_units': 10, 'activation': 'relu'}, 'layer_2': {'n_units': 10, 'activation': 'relu'}, 'layer_3': {'n_units': 10, 'activation': 'relu'}, 'layer_4': {'n_units': 1}}\n",
      "\n"
     ]
    }
   ],
   "source": [
    "# Define the new architecture\n",
    "# model architecture\n",
    "model_architecture2 = {\"layer_1\": {\"n_units\": 10, \"activation\": \"relu\"},\n",
    "                       \"layer_2\": {\"n_units\": 10, \"activation\": \"relu\"},\n",
    "                       \"layer_3\": {\"n_units\": 10, \"activation\": \"relu\"},\n",
    "                       \"layer_4\": {\"n_units\":  1},\n",
    "                      }\n",
    "\n",
    "print()\n",
    "print(\"input_shape    = {}\".format(input_shape))\n",
    "print(\"network_config = {}\".format(model_architecture2))\n",
    "print()"
   ]
  },
  {
   "cell_type": "code",
   "execution_count": 41,
   "metadata": {
    "tags": []
   },
   "outputs": [
    {
     "name": "stdout",
     "output_type": "stream",
     "text": [
      "\n",
      "Launching 50 iterations of\n",
      " - train/test split => test_size = 0.3\n",
      " - Apply predictors normalization\n",
      " - model architecture: {'layer_1': {'n_units': 10, 'activation': 'relu'}, 'layer_2': {'n_units': 10, 'activation': 'relu'}, 'layer_3': {'n_units': 10, 'activation': 'relu'}, 'layer_4': {'n_units': 1}}\n",
      " - model training:\n",
      "   * epochs    = 50\n",
      "   * optimizer = adam\n",
      "   * loss      = mean_squared_error\n",
      "\n",
      "Train/test splitting for iteration 1\n",
      "  X_train.shape = (721, 8)\n",
      "  y_train.shape = (721,)\n",
      "  X_test.shape  = (309, 8)\n",
      "  y_test.shape  = (309,)\n",
      "       Cement  Blast Furnace Slag   Fly Ash     Water  Superplasticizer  \\\n",
      "723  0.260617           -0.863998 -0.825639  0.448707         -1.007613   \n",
      "112  1.477748            1.174001 -0.825639  0.163870          0.870100   \n",
      "278 -0.292281           -0.863998  1.058232  0.282552         -0.026465   \n",
      "641 -0.305490           -0.863998 -0.825639 -0.026021         -1.007613   \n",
      "270 -0.477209           -0.863998  1.110782 -0.405804          0.125781   \n",
      "\n",
      "     Coarse Aggregate  Fine Aggregate       Age  \n",
      "723          0.481434        0.718580 -0.271735  \n",
      "112         -1.145439       -0.775490 -0.608947  \n",
      "278          0.691353       -0.166115  0.884424  \n",
      "641          1.607829        0.596215 -0.608947  \n",
      "270          1.049752        0.088403 -0.496543  \n",
      "\n",
      "Model summary for iteration 1\n",
      "Model: \"sequential_150\"\n",
      "_________________________________________________________________\n",
      "Layer (type)                 Output Shape              Param #   \n",
      "=================================================================\n",
      "dense_300 (Dense)            (None, 10)                90        \n",
      "_________________________________________________________________\n",
      "dense_301 (Dense)            (None, 10)                110       \n",
      "_________________________________________________________________\n",
      "dense_302 (Dense)            (None, 10)                110       \n",
      "_________________________________________________________________\n",
      "dense_303 (Dense)            (None, 1)                 11        \n",
      "=================================================================\n",
      "Total params: 321\n",
      "Trainable params: 321\n",
      "Non-trainable params: 0\n",
      "_________________________________________________________________\n",
      "\n",
      "\n",
      "1: sqrt(mse) = 11.75455587898998\n",
      "2: sqrt(mse) = 11.597057609745365\n",
      "3: sqrt(mse) = 12.41597662792541\n",
      "4: sqrt(mse) = 10.730597212715823\n",
      "5: sqrt(mse) = 11.788611553082726\n",
      "6: sqrt(mse) = 11.87067066343825\n",
      "7: sqrt(mse) = 10.008289131173333\n",
      "8: sqrt(mse) = 11.541267370361737\n",
      "9: sqrt(mse) = 12.42573908579684\n",
      "10: sqrt(mse) = 9.469828612703985\n",
      "11: sqrt(mse) = 10.777947953212895\n",
      "12: sqrt(mse) = 10.839841398001955\n",
      "13: sqrt(mse) = 10.794977402982486\n",
      "14: sqrt(mse) = 11.343825967548437\n",
      "15: sqrt(mse) = 10.985704551883703\n",
      "16: sqrt(mse) = 11.89837707496359\n",
      "17: sqrt(mse) = 11.971870661103198\n",
      "18: sqrt(mse) = 9.72883446888782\n",
      "19: sqrt(mse) = 12.797898861599847\n",
      "20: sqrt(mse) = 10.523322779181889\n",
      "21: sqrt(mse) = 11.856272723803125\n",
      "22: sqrt(mse) = 11.487565376575809\n",
      "23: sqrt(mse) = 10.453358330500603\n",
      "24: sqrt(mse) = 11.474274011591284\n",
      "25: sqrt(mse) = 11.440604655415806\n",
      "26: sqrt(mse) = 10.79413877154556\n",
      "27: sqrt(mse) = 9.891367511774105\n",
      "28: sqrt(mse) = 10.478871733897977\n",
      "29: sqrt(mse) = 11.13453085503167\n",
      "30: sqrt(mse) = 11.395356214182419\n",
      "31: sqrt(mse) = 10.307056326229585\n",
      "32: sqrt(mse) = 11.518885558439285\n",
      "33: sqrt(mse) = 11.122268562217037\n",
      "34: sqrt(mse) = 10.482138920536592\n",
      "35: sqrt(mse) = 10.986377686872864\n",
      "36: sqrt(mse) = 9.983467556014086\n",
      "37: sqrt(mse) = 11.808183212751548\n",
      "38: sqrt(mse) = 10.998119119983558\n",
      "39: sqrt(mse) = 11.438386318524415\n",
      "40: sqrt(mse) = 11.69979176921282\n",
      "41: sqrt(mse) = 11.909771002151208\n",
      "42: sqrt(mse) = 10.527254623717488\n",
      "43: sqrt(mse) = 11.869826006157373\n",
      "44: sqrt(mse) = 10.637459103509206\n",
      "45: sqrt(mse) = 10.206261031096322\n",
      "46: sqrt(mse) = 11.360962803233962\n",
      "47: sqrt(mse) = 11.40155322183347\n",
      "48: sqrt(mse) = 10.669668788221323\n",
      "49: sqrt(mse) = 11.721173999484053\n",
      "50: sqrt(mse) = 11.95604375054204\n",
      "\n"
     ]
    }
   ],
   "source": [
    "# Launch the function above (train_and_test_several_models), but with pred_norm = True \n",
    "# and model_arch = model_architecture2 and epochs = 100\n",
    "sq_mse_list_D = train_and_test_several_models(X = X,\n",
    "                                              y = y,\n",
    "                                              test_size   = test_size,\n",
    "                                              model_arch  = model_architecture2,\n",
    "                                              input_shape = input_shape,\n",
    "                                              optimizer   = \"adam\",\n",
    "                                              loss        = \"mean_squared_error\",\n",
    "                                              niterations = niterations,\n",
    "                                              epochs      = 50,\n",
    "                                              seed        = 3675,\n",
    "                                              verbose     = 0,\n",
    "                                              pred_norm   = True,\n",
    "                                             )"
   ]
  },
  {
   "cell_type": "code",
   "execution_count": 42,
   "metadata": {
    "tags": []
   },
   "outputs": [
    {
     "data": {
      "text/html": [
       "<div>\n",
       "<style scoped>\n",
       "    .dataframe tbody tr th:only-of-type {\n",
       "        vertical-align: middle;\n",
       "    }\n",
       "\n",
       "    .dataframe tbody tr th {\n",
       "        vertical-align: top;\n",
       "    }\n",
       "\n",
       "    .dataframe thead th {\n",
       "        text-align: right;\n",
       "    }\n",
       "</style>\n",
       "<table border=\"1\" class=\"dataframe\">\n",
       "  <thead>\n",
       "    <tr style=\"text-align: right;\">\n",
       "      <th></th>\n",
       "      <th>Part</th>\n",
       "      <th>mean_sq_mse</th>\n",
       "      <th>std_sq_mse</th>\n",
       "    </tr>\n",
       "  </thead>\n",
       "  <tbody>\n",
       "    <tr>\n",
       "      <th>0</th>\n",
       "      <td>A</td>\n",
       "      <td>16.325701</td>\n",
       "      <td>6.555925</td>\n",
       "    </tr>\n",
       "    <tr>\n",
       "      <th>1</th>\n",
       "      <td>B</td>\n",
       "      <td>18.354643</td>\n",
       "      <td>2.025164</td>\n",
       "    </tr>\n",
       "    <tr>\n",
       "      <th>2</th>\n",
       "      <td>C</td>\n",
       "      <td>13.140183</td>\n",
       "      <td>1.198785</td>\n",
       "    </tr>\n",
       "    <tr>\n",
       "      <th>3</th>\n",
       "      <td>D</td>\n",
       "      <td>11.165524</td>\n",
       "      <td>0.734003</td>\n",
       "    </tr>\n",
       "  </tbody>\n",
       "</table>\n",
       "</div>"
      ],
      "text/plain": [
       "  Part  mean_sq_mse  std_sq_mse\n",
       "0    A    16.325701    6.555925\n",
       "1    B    18.354643    2.025164\n",
       "2    C    13.140183    1.198785\n",
       "3    D    11.165524    0.734003"
      ]
     },
     "execution_count": 42,
     "metadata": {},
     "output_type": "execute_result"
    }
   ],
   "source": [
    "# Calculate the mean and the standard deviation of the metric on the 50 samplings\n",
    "mean_sqmse_D = np.mean(sq_mse_list_D)\n",
    "std_sqmse_D  = np.std(sq_mse_list_D)\n",
    "\n",
    "df_results.loc[df_results.shape[0]] = [\"D\",mean_sqmse_D,std_sqmse_D]\n",
    "df_results"
   ]
  },
  {
   "cell_type": "code",
   "execution_count": null,
   "metadata": {},
   "outputs": [],
   "source": [
    "#By increasing the model complexity (more hidden layers) improves the results, both in terms of precision (mse mean) and stability (mse standard deviation)."
   ]
  }
 ],
 "metadata": {
  "kernelspec": {
   "display_name": "Python",
   "language": "python",
   "name": "conda-env-python-py"
  },
  "language_info": {
   "codemirror_mode": {
    "name": "ipython",
    "version": 3
   },
   "file_extension": ".py",
   "mimetype": "text/x-python",
   "name": "python",
   "nbconvert_exporter": "python",
   "pygments_lexer": "ipython3",
   "version": "3.7.12"
  },
  "prev_pub_hash": "83687881d337faa1ef19930a5252431ac8ebd74923546c921f47fecec1b0d333"
 },
 "nbformat": 4,
 "nbformat_minor": 4
}
